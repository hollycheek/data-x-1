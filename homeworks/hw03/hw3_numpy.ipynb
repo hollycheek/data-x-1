{
 "cells": [
  {
   "cell_type": "markdown",
   "metadata": {},
   "source": [
    "# Homework 3 - NumPy"
   ]
  },
  {
   "cell_type": "markdown",
   "metadata": {},
   "source": [
    "### NAME: Holly Cheek \n",
    "### STUDENT ID: 3033094443"
   ]
  },
  {
   "cell_type": "code",
   "execution_count": 1,
   "metadata": {},
   "outputs": [],
   "source": [
    "# Do not delete this cell.\n",
    "import numpy as np"
   ]
  },
  {
   "cell_type": "markdown",
   "metadata": {},
   "source": [
    "### Since we will run autograder on your notebook, for each question please do not reuse variable names that have been used in previous questions."
   ]
  },
  {
   "cell_type": "markdown",
   "metadata": {},
   "source": [
    "## NumPy Introduction\n",
    "\n",
    "__1a) Create two numpy arrays called a and b where a should be all integers between 25-34 (inclusive), and b should be ten evenly spaced numbers between 1-6 (inclusive). Print a and b.__"
   ]
  },
  {
   "cell_type": "code",
   "execution_count": 2,
   "metadata": {},
   "outputs": [
    {
     "name": "stdout",
     "output_type": "stream",
     "text": [
      "[25 26 27 28 29 30 31 32 33 34]\n",
      "[1.         1.55555556 2.11111111 2.66666667 3.22222222 3.77777778\n",
      " 4.33333333 4.88888889 5.44444444 6.        ]\n"
     ]
    }
   ],
   "source": [
    "a = np.arange(25,35)\n",
    "b = np.linspace(1,6, num = 10)\n",
    "print(a)\n",
    "print(b)"
   ]
  },
  {
   "cell_type": "markdown",
   "metadata": {},
   "source": [
    "__1b) Cube (i.e. raise to the power of 3) all the elements in both a and b (element-wise). Store the results in two new arrays called cubed_a and cubed_b. Print cubed_a and cubed_b.__"
   ]
  },
  {
   "cell_type": "code",
   "execution_count": 3,
   "metadata": {},
   "outputs": [
    {
     "name": "stdout",
     "output_type": "stream",
     "text": [
      "[15625 17576 19683 21952 24389 27000 29791 32768 35937 39304]\n",
      "[  1.           3.76406036   9.40877915  18.96296296  33.45541838\n",
      "  53.91495199  81.37037037 116.85048011 161.38408779 216.        ]\n"
     ]
    }
   ],
   "source": [
    "cubed_a = np.power(a, 3)\n",
    "cubed_b = np.power(b, 3)\n",
    "print(cubed_a)\n",
    "print(cubed_b)"
   ]
  },
  {
   "cell_type": "markdown",
   "metadata": {},
   "source": [
    "__1c) Add the two cubed arrays (e.g., [1,2] + [3,4] = [4,6]) and store the result in an array called c. Print c.__"
   ]
  },
  {
   "cell_type": "code",
   "execution_count": 4,
   "metadata": {},
   "outputs": [
    {
     "name": "stdout",
     "output_type": "stream",
     "text": [
      "[15626.         17579.76406036 19692.40877915 21970.96296296\n",
      " 24422.45541838 27053.91495199 29872.37037037 32884.85048011\n",
      " 36098.38408779 39520.        ]\n"
     ]
    }
   ],
   "source": [
    "c = np.add(cubed_a, cubed_b)\n",
    "print(c)"
   ]
  },
  {
   "cell_type": "markdown",
   "metadata": {},
   "source": [
    "__1d) Sum the elements with even indices of c and store the result in a variable called d. Print d.__"
   ]
  },
  {
   "cell_type": "code",
   "execution_count": 5,
   "metadata": {},
   "outputs": [
    {
     "name": "stdout",
     "output_type": "stream",
     "text": [
      "125711.61865569273\n"
     ]
    }
   ],
   "source": [
    "d = sum(c[::2])\n",
    "print(d)"
   ]
  },
  {
   "cell_type": "markdown",
   "metadata": {},
   "source": [
    "__1e) Take the element-wise square root of the c and store the result in an array called e. Print e.__"
   ]
  },
  {
   "cell_type": "code",
   "execution_count": 6,
   "metadata": {},
   "outputs": [
    {
     "name": "stdout",
     "output_type": "stream",
     "text": [
      "[125.00399994 132.58870261 140.32964327 148.22605359 156.27685503\n",
      " 164.48074341 172.83625306 181.34180566 189.99574755 198.79637824]\n"
     ]
    }
   ],
   "source": [
    "e = np.sqrt(c)\n",
    "print(e)"
   ]
  },
  {
   "cell_type": "markdown",
   "metadata": {},
   "source": [
    "__1f) Append b to a, reshape the appended array so that it is a 4x5, 2d array and store the results in a variable called m. Print m.__\n"
   ]
  },
  {
   "cell_type": "code",
   "execution_count": 7,
   "metadata": {},
   "outputs": [
    {
     "name": "stdout",
     "output_type": "stream",
     "text": [
      "[[25.         26.         27.         28.         29.        ]\n",
      " [30.         31.         32.         33.         34.        ]\n",
      " [ 1.          1.55555556  2.11111111  2.66666667  3.22222222]\n",
      " [ 3.77777778  4.33333333  4.88888889  5.44444444  6.        ]]\n"
     ]
    }
   ],
   "source": [
    "m = np.concatenate((a,b)).reshape((4,5))\n",
    "print(m)"
   ]
  },
  {
   "cell_type": "markdown",
   "metadata": {},
   "source": [
    "__1g) Extract the third and the fourth column of the m matrix. Store the resulting 4x2 matrix in a new variable called m2. Print m2.__\n"
   ]
  },
  {
   "cell_type": "code",
   "execution_count": 8,
   "metadata": {},
   "outputs": [
    {
     "name": "stdout",
     "output_type": "stream",
     "text": [
      "[[27.         28.        ]\n",
      " [32.         33.        ]\n",
      " [ 2.11111111  2.66666667]\n",
      " [ 4.88888889  5.44444444]]\n"
     ]
    }
   ],
   "source": [
    "m2 = m[:,2:4]\n",
    "print(m2)"
   ]
  },
  {
   "cell_type": "markdown",
   "metadata": {},
   "source": [
    "__1h) Take the dot product of m and m2. Store the results in a matrix called m3. Print m3.\n",
    "Note that Dot product of two matrices A$\\cdot$B =A<sup>T</sup>B__"
   ]
  },
  {
   "cell_type": "code",
   "execution_count": 9,
   "metadata": {},
   "outputs": [
    {
     "name": "stdout",
     "output_type": "stream",
     "text": [
      "[[1655.58024691 1718.4691358  1781.35802469 1844.24691358 1907.13580247]\n",
      " [1713.2345679  1778.74074074 1844.24691358 1909.75308642 1975.25925926]]\n"
     ]
    }
   ],
   "source": [
    "m3 = m2.T.dot(m)\n",
    "print(m3)"
   ]
  },
  {
   "cell_type": "markdown",
   "metadata": {},
   "source": [
    "__1i) Round the m3 matrix to three decimal points. Store the result in m4. Print m4.__\n"
   ]
  },
  {
   "cell_type": "code",
   "execution_count": 10,
   "metadata": {},
   "outputs": [
    {
     "name": "stdout",
     "output_type": "stream",
     "text": [
      "[[1655.58  1718.469 1781.358 1844.247 1907.136]\n",
      " [1713.235 1778.741 1844.247 1909.753 1975.259]]\n"
     ]
    }
   ],
   "source": [
    "m4 = np.round(m3, decimals =3)\n",
    "print(m4)"
   ]
  },
  {
   "cell_type": "markdown",
   "metadata": {},
   "source": [
    "## NumPy and Masks\n",
    "__2a) Create an array called f where the values are cosine(x) for x from 0 to pi with 50 equally spaced values (inclusive). Print f.__"
   ]
  },
  {
   "cell_type": "code",
   "execution_count": 11,
   "metadata": {},
   "outputs": [
    {
     "name": "stdout",
     "output_type": "stream",
     "text": [
      "[ 1.          0.99794539  0.99179001  0.98155916  0.96729486  0.94905575\n",
      "  0.92691676  0.90096887  0.8713187   0.8380881   0.80141362  0.76144596\n",
      "  0.71834935  0.67230089  0.6234898   0.57211666  0.51839257  0.46253829\n",
      "  0.40478334  0.34536505  0.28452759  0.22252093  0.1595999   0.09602303\n",
      "  0.03205158 -0.03205158 -0.09602303 -0.1595999  -0.22252093 -0.28452759\n",
      " -0.34536505 -0.40478334 -0.46253829 -0.51839257 -0.57211666 -0.6234898\n",
      " -0.67230089 -0.71834935 -0.76144596 -0.80141362 -0.8380881  -0.8713187\n",
      " -0.90096887 -0.92691676 -0.94905575 -0.96729486 -0.98155916 -0.99179001\n",
      " -0.99794539 -1.        ]\n"
     ]
    }
   ],
   "source": [
    "f = np.cos(np.linspace(0, np.pi, num = 50))\n",
    "print(f)"
   ]
  },
  {
   "cell_type": "markdown",
   "metadata": {},
   "source": [
    "__2b) Use a 'mask' to get an array that is True when f >= 1/2 and False when f < 1/2. Store the result in an array called g. Print g.__"
   ]
  },
  {
   "cell_type": "code",
   "execution_count": 12,
   "metadata": {},
   "outputs": [
    {
     "name": "stdout",
     "output_type": "stream",
     "text": [
      "[ True  True  True  True  True  True  True  True  True  True  True  True\n",
      "  True  True  True  True  True False False False False False False False\n",
      " False False False False False False False False False False False False\n",
      " False False False False False False False False False False False False\n",
      " False False]\n"
     ]
    }
   ],
   "source": [
    "g = f >= 1/2\n",
    "print(g)"
   ]
  },
  {
   "cell_type": "markdown",
   "metadata": {},
   "source": [
    "__2c) Create an array called h that has only those values where f>= 1/2. Print h.__"
   ]
  },
  {
   "cell_type": "code",
   "execution_count": 13,
   "metadata": {},
   "outputs": [
    {
     "name": "stdout",
     "output_type": "stream",
     "text": [
      "[1.         0.99794539 0.99179001 0.98155916 0.96729486 0.94905575\n",
      " 0.92691676 0.90096887 0.8713187  0.8380881  0.80141362 0.76144596\n",
      " 0.71834935 0.67230089 0.6234898  0.57211666 0.51839257]\n"
     ]
    }
   ],
   "source": [
    "h = f[g]\n",
    "print(h)"
   ]
  },
  {
   "cell_type": "markdown",
   "metadata": {
    "collapsed": true
   },
   "source": [
    "## NumPy and 2 Variable Prediction"
   ]
  },
  {
   "cell_type": "markdown",
   "metadata": {},
   "source": [
    "__Let 'x' be the number of miles a person drives per day and 'y' be the dollars spent on buying car fuel (per day).__\n",
    "  \n",
    "__We have created 2 numpy arrays each of size 100 that represent x and y.  \n",
    "x (number of miles) ranges from 1 to 10 with a uniform noise of (0,1/2)  \n",
    "y (money spent in dollars) will be from 1 to 20 with a uniform noise (0,1)__ \n"
   ]
  },
  {
   "cell_type": "code",
   "execution_count": 14,
   "metadata": {},
   "outputs": [
    {
     "name": "stdout",
     "output_type": "stream",
     "text": [
      "x =  [ 1.34683976  1.12176759  1.51512398  1.55233174  1.40619168  1.65075498\n",
      "  1.79399331  1.80243817  1.89844195  2.00100023  2.3344038   2.22424872\n",
      "  2.24914511  2.36268477  2.49808849  2.8212704   2.68452475  2.68229427\n",
      "  3.09511169  2.95703884  3.09047742  3.2544361   3.41541904  3.40886375\n",
      "  3.50672677  3.74960644  3.64861355  3.7721462   3.56368566  4.01092701\n",
      "  4.15630694  4.06088549  4.02517179  4.25169402  4.15897504  4.26835333\n",
      "  4.32520644  4.48563164  4.78490721  4.84614839  4.96698768  5.18754259\n",
      "  5.29582013  5.32097781  5.0674106   5.47601124  5.46852704  5.64537452\n",
      "  5.49642807  5.89755027  5.68548923  5.76276141  5.94613234  6.18135713\n",
      "  5.96522091  6.0275473   6.54290191  6.4991329   6.74003765  6.81809807\n",
      "  6.50611821  6.91538752  7.01250925  6.89905417  7.31314433  7.20472297\n",
      "  7.1043621   7.48199528  7.58957227  7.61744354  7.6991707   7.85436822\n",
      "  8.03510784  7.80787781  8.22410224  7.99366248  8.40581097  8.28913792\n",
      "  8.45971515  8.54227144  8.6906456   8.61856507  8.83489887  8.66309658\n",
      "  8.94837987  9.20890222  8.9614749   8.92608294  9.13231416  9.55889896\n",
      "  9.61488451  9.54252979  9.42015491  9.90952569 10.00659591 10.02504265\n",
      " 10.07330937  9.93489915 10.0892334  10.36509991]\n",
      "y =  [ 1.6635012   2.0214592   2.10816052  2.26016496  1.96287558  2.9554635\n",
      "  3.02881887  3.33565296  2.75465779  3.4250107   3.39670148  3.39377767\n",
      "  3.78503343  4.38293049  4.32963586  4.03925039  4.73691868  4.30098399\n",
      "  4.8416329   4.78175957  4.99765787  5.31746817  5.76844671  5.93723749\n",
      "  5.72811642  6.70973615  6.68143367  6.57482731  7.17737603  7.54863252\n",
      "  7.30221419  7.3202573   7.78023884  7.91133365  8.2765417   8.69203281\n",
      "  8.78219865  8.45897546  8.89094715  8.81719921  8.87106971  9.66192562\n",
      "  9.4020625   9.85990783  9.60359778 10.07386266 10.6957995  10.66721916\n",
      " 11.18256285 10.57431836 11.46744716 10.94398916 11.26445259 12.09754828\n",
      " 12.11988037 12.121557   12.17613693 12.43750193 13.00912372 12.86407194\n",
      " 13.24640866 12.76120085 13.11723062 14.07841099 14.19821707 14.27289001\n",
      " 14.30624942 14.63060835 14.2770918  15.0744923  14.45261619 15.11897313\n",
      " 15.2378667  15.27203124 15.32491892 16.01095271 15.71250558 16.29488506\n",
      " 16.70618934 16.56555394 16.42379457 17.18144744 17.13813976 17.69613625\n",
      " 17.37763019 17.90942839 17.90343733 18.01951169 18.35727914 18.16841269\n",
      " 18.61813748 18.66062754 18.81217983 19.44995194 19.7213867  19.71966726\n",
      " 19.78961904 19.64385088 20.69719809 20.07974319]\n"
     ]
    }
   ],
   "source": [
    "# seed the random number generator with a fixed value\n",
    "# Do not delete this cell\n",
    "np.random.seed(500)\n",
    "\n",
    "x=np.linspace(1,10,100)+ np.random.uniform(low=0,high=.5,size=100) \n",
    "y=np.linspace(1,20,100)+ np.random.uniform(low=0,high=1,size=100)\n",
    "print ('x = ', x)\n",
    "print ('y = ', y)"
   ]
  },
  {
   "cell_type": "markdown",
   "metadata": {},
   "source": [
    "__3a) Find Expected value of x and the expected value of y. Store the results in two variables called ex and ey.__"
   ]
  },
  {
   "cell_type": "code",
   "execution_count": 21,
   "metadata": {},
   "outputs": [
    {
     "name": "stdout",
     "output_type": "stream",
     "text": [
      "5.782532541587923 11.012981683344968\n"
     ]
    }
   ],
   "source": [
    "ex = np.mean(x)\n",
    "ey = np.mean(y)\n",
    "print(ex, ey)"
   ]
  },
  {
   "cell_type": "markdown",
   "metadata": {},
   "source": [
    "__3b) Find variance of distributions of x and y. Store the results in two variables called varx and vary.__"
   ]
  },
  {
   "cell_type": "code",
   "execution_count": 22,
   "metadata": {},
   "outputs": [
    {
     "name": "stdout",
     "output_type": "stream",
     "text": [
      "7.03332752947585 30.113903575509635\n"
     ]
    }
   ],
   "source": [
    "varx = np.var(x)\n",
    "vary = np.var(y)\n",
    "print(varx, vary)"
   ]
  },
  {
   "cell_type": "markdown",
   "metadata": {},
   "source": [
    "__3c) Find co-variance of x and y. Store the result in a variable called cov.__"
   ]
  },
  {
   "cell_type": "code",
   "execution_count": 23,
   "metadata": {},
   "outputs": [
    {
     "name": "stdout",
     "output_type": "stream",
     "text": [
      "14.511166394475424\n",
      "[[ 7.10437124 14.65774383]\n",
      " [14.65774383 30.41808442]]\n"
     ]
    }
   ],
   "source": [
    "cov = np.mean(x*y) - ex * ey\n",
    "print(cov)\n",
    "print(np.cov(x,y)) #only the diagonal elements"
   ]
  },
  {
   "cell_type": "markdown",
   "metadata": {},
   "source": [
    "__3d) Assuming that number of dollars spent in car fuel is only dependant on the miles driven, by  a linear relationship.  \n",
    "Write code that uses a linear predictor to calculate a predicted value of y for each x\n",
    "i.e. y_predicted = f(x) = y0 + kx. Store your predicitions in an array called y_pred. Print y_pred.__  "
   ]
  },
  {
   "cell_type": "code",
   "execution_count": 24,
   "metadata": {},
   "outputs": [
    {
     "name": "stdout",
     "output_type": "stream",
     "text": [
      "[ 1.86125717  1.39688809  2.20846128  2.28522836  1.98371207  2.48829527\n",
      "  2.78382468  2.80124813  2.9993232   3.21092152  3.8988      3.67152796\n",
      "  3.7228942   3.9571493   4.23651436  4.9033035   4.62116978  4.61656787\n",
      "  5.46829307  5.18342105  5.45873164  5.79701128  6.12915141  6.11562653\n",
      "  6.31753758  6.81864709  6.61027849  6.86515115  6.43505522  7.35780389\n",
      "  7.65775187  7.46087825  7.38719373  7.85455455  7.66325667  7.88892606\n",
      "  8.00622544  8.33721481  8.95468038  9.08103323  9.33034895  9.78539799\n",
      " 10.00879629 10.06070164  9.53754157 10.38056671 10.36512531 10.72999716\n",
      " 10.42269073 11.25028634 10.81276185 10.97218988 11.35052091 11.83583685\n",
      " 11.38990445 11.51849632 12.58177632 12.49147206 12.98850691 13.14956122\n",
      " 12.50588416 13.35028889 13.5506705  13.31658991 14.17094102 13.947246\n",
      " 13.74018137 14.51931443 14.74126735 14.79877137 14.96739089 15.28759454\n",
      " 15.66049665 15.1916755  16.05043004 15.57498655 16.42533161 16.18461169\n",
      " 16.53654675 16.70687695 17.01300263 16.86428603 17.31062607 16.95616347\n",
      " 17.54476017 18.08227006 17.57177784 17.49875711 17.92425351 18.80438359\n",
      " 18.91989301 18.77061069 18.51812677 19.5277969  19.72807224 19.76613158\n",
      " 19.8657155  19.58014745 19.89856998 20.46773797]\n"
     ]
    }
   ],
   "source": [
    "def predictor(x_val):\n",
    "    slope = cov/varx\n",
    "    y_int = ey - slope*ex\n",
    "    return (y_int + slope * x_val)\n",
    "\n",
    "y_pred = predictor(x)\n",
    "print(y_pred)"
   ]
  },
  {
   "cell_type": "markdown",
   "metadata": {},
   "source": [
    "__3e) Put the prediction error into an array called y_error. Print y_error.__"
   ]
  },
  {
   "cell_type": "code",
   "execution_count": 27,
   "metadata": {},
   "outputs": [
    {
     "name": "stdout",
     "output_type": "stream",
     "text": [
      "[3.91074238e-02 3.90089068e-01 1.00602426e-02 6.28174407e-04\n",
      " 4.34159397e-04 2.18246155e-01 6.00221492e-02 2.85588517e-01\n",
      " 5.98611651e-02 4.58341762e-02 2.52102923e-01 7.71452229e-02\n",
      " 3.86128331e-03 1.81289615e-01 8.67161417e-03 7.46587776e-01\n",
      " 1.33978081e-02 9.95931872e-02 3.92702968e-01 1.61331949e-01\n",
      " 2.12589019e-01 2.29961598e-01 1.30107881e-01 3.18226480e-02\n",
      " 3.47417298e-01 1.18615933e-02 5.06305934e-03 8.42879328e-02\n",
      " 5.51040190e-01 3.64155664e-02 1.26407037e-01 1.97742526e-02\n",
      " 1.54484457e-01 3.22386643e-03 3.76118518e-01 6.44980460e-01\n",
      " 6.02134420e-01 1.48256557e-02 4.06192410e-03 6.96083892e-02\n",
      " 2.10937426e-01 1.52454276e-02 3.68125897e-01 4.03181563e-02\n",
      " 4.36342204e-03 9.40673772e-02 1.09345421e-01 3.94107735e-03\n",
      " 5.77405634e-01 4.56932708e-01 4.28612855e-01 7.95280194e-04\n",
      " 7.40775594e-03 6.84928710e-02 5.32864845e-01 3.63682187e-01\n",
      " 1.64543313e-01 2.91277455e-03 4.25053049e-04 8.15041286e-02\n",
      " 5.48376537e-01 3.47024722e-01 1.87870128e-01 5.80371345e-01\n",
      " 7.43982492e-04 1.06044018e-01 3.20433033e-01 1.23863370e-02\n",
      " 2.15458944e-01 7.60220326e-02 2.64992995e-01 2.84331818e-02\n",
      " 1.78616075e-01 6.45704535e-03 5.26366387e-01 1.90066491e-01\n",
      " 5.08120940e-01 1.21602172e-02 2.87786075e-02 1.99721919e-02\n",
      " 3.47166146e-01 1.00591362e-01 2.97515255e-02 5.47559722e-01\n",
      " 2.79324279e-02 2.98742437e-02 1.09998014e-01 2.71185327e-01\n",
      " 1.87511199e-01 4.04458982e-01 9.10563992e-02 1.20962920e-02\n",
      " 8.64672041e-02 6.05983828e-03 4.46964514e-05 2.15893245e-03\n",
      " 5.79067160e-03 4.05812722e-03 6.37806867e-01 1.50539944e-01]\n"
     ]
    }
   ],
   "source": [
    "y_error = np.power(y_pred - y, 2) #standard error\n",
    "print(y_error)"
   ]
  },
  {
   "cell_type": "markdown",
   "metadata": {},
   "source": [
    "__3f) Write code that calculates the root mean square error (RMSE), that is root of average of y_error squared. Store the result in a variable called rmse. Print rmse.__"
   ]
  },
  {
   "cell_type": "code",
   "execution_count": 32,
   "metadata": {},
   "outputs": [
    {
     "name": "stdout",
     "output_type": "stream",
     "text": [
      "0.41767772366856115\n"
     ]
    }
   ],
   "source": [
    "rmse = np.sqrt(np.mean(y_error))\n",
    "print(rmse)"
   ]
  },
  {
   "cell_type": "markdown",
   "metadata": {},
   "source": [
    "## Congratulations on completing hw3! Don't forget to click Kernel -> Restart & Run All, and submit this notebook on Gradescope."
   ]
  }
 ],
 "metadata": {
  "anaconda-cloud": {},
  "kernelspec": {
   "display_name": "Python 3",
   "language": "python",
   "name": "python3"
  },
  "language_info": {
   "codemirror_mode": {
    "name": "ipython",
    "version": 3
   },
   "file_extension": ".py",
   "mimetype": "text/x-python",
   "name": "python",
   "nbconvert_exporter": "python",
   "pygments_lexer": "ipython3",
   "version": "3.7.4"
  }
 },
 "nbformat": 4,
 "nbformat_minor": 1
}
