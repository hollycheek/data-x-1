{
 "cells": [
  {
   "cell_type": "code",
   "execution_count": 99,
   "metadata": {},
   "outputs": [],
   "source": [
    "import pandas as pd\n",
    "import numpy as np\n",
    "import matplotlib.pyplot as plt\n",
    "import tensorflow as tf\n",
    "import otter\n",
    "grader = otter.Notebook()\n",
    "\n",
    "%matplotlib inline\n",
    "\n",
    "# Hide warnings\n",
    "import warnings\n",
    "warnings.filterwarnings('ignore')"
   ]
  },
  {
   "cell_type": "code",
   "execution_count": 100,
   "metadata": {},
   "outputs": [],
   "source": [
    "# load dataset\n",
    "(x_train, y_train), (x_test, y_test) = tf.keras. \\\n",
    "                            datasets.mnist.load_data()"
   ]
  },
  {
   "cell_type": "code",
   "execution_count": 101,
   "metadata": {},
   "outputs": [
    {
     "name": "stdout",
     "output_type": "stream",
     "text": [
      "Train input shape: (60000, 28, 28)\n",
      "Test input shape: (10000, 28, 28)\n",
      "Input data type: uint8\n"
     ]
    }
   ],
   "source": [
    "# input information\n",
    "print('Train input shape:',x_train.shape)\n",
    "print('Test input shape:',x_test.shape)\n",
    "print('Input data type:',x_train.dtype)"
   ]
  },
  {
   "cell_type": "code",
   "execution_count": 102,
   "metadata": {},
   "outputs": [
    {
     "data": {
      "text/html": [
       "\n",
       "    \n",
       "    \n",
       "        <p>All tests passed!</p>\n",
       "    \n",
       "    "
      ],
      "text/plain": [
       "\n",
       "    All tests passed!\n",
       "    "
      ]
     },
     "execution_count": 102,
     "metadata": {},
     "output_type": "execute_result"
    }
   ],
   "source": [
    "# Normalize the data by dividing by 255, flatten inputs, and convert datatype to float32\n",
    "x_train = x_train.reshape(60000, 784). \\\n",
    "                    astype('float32') / 255\n",
    "\n",
    "x_test = x_test.reshape(10000, 784) \\\n",
    "                    .astype('float32') / 255\n",
    "\n",
    "grader.check('q1')"
   ]
  },
  {
   "cell_type": "code",
   "execution_count": 103,
   "metadata": {},
   "outputs": [],
   "source": [
    "from tensorflow.keras.models import Sequential\n",
    "from tensorflow.keras.layers import Dense\n",
    "from tensorflow.keras.layers import Conv2D\n",
    "from tensorflow.keras.layers import Dense, Dropout, Activation, Flatten"
   ]
  },
  {
   "cell_type": "code",
   "execution_count": 104,
   "metadata": {},
   "outputs": [
    {
     "data": {
      "text/html": [
       "\n",
       "    \n",
       "    \n",
       "        <p>All tests passed!</p>\n",
       "    \n",
       "    "
      ],
      "text/plain": [
       "\n",
       "    All tests passed!\n",
       "    "
      ]
     },
     "execution_count": 104,
     "metadata": {},
     "output_type": "execute_result"
    }
   ],
   "source": [
    "# Now made a fully connected network with layers of size 300, 200, 100.\n",
    "# Make a final output layer of size 10 (for each of the 10 digit classes), with a softmax activation\n",
    "\n",
    "# Initialize model constructor\n",
    "model = Sequential()\n",
    "\n",
    "# Add layers sequentially\n",
    "model.add(Dense(300, activation=tf.nn.relu, \\\n",
    "                    input_shape=(784,)))\n",
    "# Second..\n",
    "model.add(Dense(200, activation=tf.nn.relu))\n",
    "\n",
    "# Third..\n",
    "model.add(Dense(100, activation=tf.nn.relu))\n",
    "\n",
    "# Output layer with softmax..\n",
    "model.add(Dense(10, activation='softmax'))\n",
    "\n",
    "grader.check('q2')"
   ]
  },
  {
   "cell_type": "code",
   "execution_count": 105,
   "metadata": {},
   "outputs": [],
   "source": [
    "# compile the model with sparse_categorical_crossentropy\n",
    "model.compile(loss='sparse_categorical_crossentropy',\n",
    "              optimizer=tf.keras.optimizers.RMSprop(),\n",
    "              metrics=['accuracy'])"
   ]
  },
  {
   "cell_type": "code",
   "execution_count": 106,
   "metadata": {},
   "outputs": [
    {
     "name": "stdout",
     "output_type": "stream",
     "text": [
      "Epoch 1/5\n",
      "750/750 [==============================] - 4s 5ms/step - loss: 0.2480 - accuracy: 0.9232 - val_loss: 0.1162 - val_accuracy: 0.9663\n",
      "Epoch 2/5\n",
      "750/750 [==============================] - 3s 5ms/step - loss: 0.0972 - accuracy: 0.9703 - val_loss: 0.1087 - val_accuracy: 0.9682\n",
      "Epoch 3/5\n",
      "750/750 [==============================] - 3s 5ms/step - loss: 0.0667 - accuracy: 0.9804 - val_loss: 0.1172 - val_accuracy: 0.9703\n",
      "Epoch 4/5\n",
      "750/750 [==============================] - 3s 5ms/step - loss: 0.0516 - accuracy: 0.9843 - val_loss: 0.1005 - val_accuracy: 0.9741\n",
      "Epoch 5/5\n",
      "750/750 [==============================] - 3s 5ms/step - loss: 0.0411 - accuracy: 0.9874 - val_loss: 0.1071 - val_accuracy: 0.9752\n"
     ]
    }
   ],
   "source": [
    "# train the model\n",
    "NO_EPOCHS = 5\n",
    "history = model.fit(x_train, y_train,\n",
    "                    batch_size=64,\n",
    "                    epochs=NO_EPOCHS,\n",
    "                    validation_split=0.2)"
   ]
  },
  {
   "cell_type": "code",
   "execution_count": 107,
   "metadata": {},
   "outputs": [
    {
     "name": "stdout",
     "output_type": "stream",
     "text": [
      "Test accuracy: 0.9771000146865845\n"
     ]
    },
    {
     "data": {
      "text/html": [
       "\n",
       "    \n",
       "    \n",
       "        <p>All tests passed!</p>\n",
       "    \n",
       "    "
      ],
      "text/plain": [
       "\n",
       "    All tests passed!\n",
       "    "
      ]
     },
     "execution_count": 107,
     "metadata": {},
     "output_type": "execute_result"
    }
   ],
   "source": [
    "# Evaluate the model\n",
    "test_scores = model.evaluate(x_test, y_test, verbose=0)\n",
    "loss, accuracy = test_scores[0], test_scores[1]\n",
    "\n",
    "print('Test accuracy:', accuracy)\n",
    "\n",
    "grader.check('q3')"
   ]
  },
  {
   "cell_type": "code",
   "execution_count": 108,
   "metadata": {},
   "outputs": [
    {
     "data": {
      "image/png": "[encoded data removed]",
      "text/plain": [
       "<Figure size 432x288 with 1 Axes>"
      ]
     },
     "metadata": {
      "needs_background": "light"
     },
     "output_type": "display_data"
    }
   ],
   "source": [
    "# plot accuracy over the epochs. Hint: look at history.history\n",
    "\n",
    "plt.plot(range(NO_EPOCHS),history.history['val_accuracy']);"
   ]
  },
  {
   "cell_type": "code",
   "execution_count": 112,
   "metadata": {},
   "outputs": [
    {
     "data": {
      "text/html": [
       "\n",
       "    \n",
       "    \n",
       "        <p>All tests passed!</p>\n",
       "    \n",
       "    "
      ],
      "text/plain": [
       "\n",
       "    All tests passed!\n",
       "    "
      ]
     },
     "execution_count": 112,
     "metadata": {},
     "output_type": "execute_result"
    }
   ],
   "source": [
    "# Now train a CNN with 2 Conv2d layers, one pooling layer, a flattening layer, and a dense layer for the output.\n",
    "# Hint: you will have to reshape your training data\n",
    "# Also for the Conv2d layers, you should use data_format='channels_last'\n",
    "\n",
    "# Import Pooling\n",
    "from tensorflow.keras.layers import MaxPool2D\n",
    "\n",
    "# Reshape training/testing data\n",
    "x_train = x_train.reshape(-1, 28, 28, 1)\n",
    "x_test = x_test.reshape(-1, 28, 28, 1)\n",
    "\n",
    "model = Sequential()\n",
    "\n",
    "# Add layers sequentially (Conv2d layer)\n",
    "model.add(Conv2D(32, kernel_size = 3, activation = 'relu', input_shape = (28, 28, 1), data_format = 'channels_last'))\n",
    "\n",
    "# Second.. (Conv2d layer)\n",
    "model.add(Conv2D(64, kernel_size = 3, activation = 'relu', data_format = 'channels_last'))\n",
    "\n",
    "# Third.. (pooling layer)\n",
    "model.add(MaxPool2D(pool_size=(2, 2), padding='same'))\n",
    "\n",
    "# Fourth.. (flattening layer)\n",
    "model.add(Flatten())\n",
    "\n",
    "# Fifth.. (dense layer for output)\n",
    "model.add(Dense(128, activation='softmax'))\n",
    "\n",
    "grader.check('q4')"
   ]
  },
  {
   "cell_type": "code",
   "execution_count": 113,
   "metadata": {},
   "outputs": [],
   "source": [
    "# compile the model\n",
    "\n",
    "model.compile(loss= 'sparse_categorical_crossentropy',\n",
    "              optimizer=tf.keras.optimizers.RMSprop(),\n",
    "              metrics=['accuracy'])"
   ]
  },
  {
   "cell_type": "code",
   "execution_count": 114,
   "metadata": {},
   "outputs": [
    {
     "name": "stdout",
     "output_type": "stream",
     "text": [
      "Epoch 1/5\n",
      "750/750 [==============================] - 88s 117ms/step - loss: 0.2016 - accuracy: 0.9392 - val_loss: 0.0719 - val_accuracy: 0.9796\n",
      "Epoch 2/5\n",
      "750/750 [==============================] - 93s 124ms/step - loss: 0.0607 - accuracy: 0.9826 - val_loss: 0.0573 - val_accuracy: 0.9835\n",
      "Epoch 3/5\n",
      "750/750 [==============================] - 89s 118ms/step - loss: 0.0443 - accuracy: 0.9866 - val_loss: 0.0509 - val_accuracy: 0.9847\n",
      "Epoch 4/5\n",
      "750/750 [==============================] - 83s 111ms/step - loss: 0.0359 - accuracy: 0.9895 - val_loss: 0.0458 - val_accuracy: 0.9872\n",
      "Epoch 5/5\n",
      "750/750 [==============================] - 87s 116ms/step - loss: 0.0305 - accuracy: 0.9917 - val_loss: 0.0467 - val_accuracy: 0.9865\n"
     ]
    }
   ],
   "source": [
    "# train the model\n",
    "NO_EPOCHS = 5\n",
    "history = model.fit(x_train, y_train,\n",
    "                    batch_size=64,\n",
    "                    epochs=NO_EPOCHS,\n",
    "                    validation_split=0.2)"
   ]
  },
  {
   "cell_type": "code",
   "execution_count": 115,
   "metadata": {},
   "outputs": [
    {
     "name": "stdout",
     "output_type": "stream",
     "text": [
      "Test accuracy: 0.9872999787330627\n"
     ]
    },
    {
     "data": {
      "text/html": [
       "\n",
       "    \n",
       "    \n",
       "        <p>All tests passed!</p>\n",
       "    \n",
       "    "
      ],
      "text/plain": [
       "\n",
       "    All tests passed!\n",
       "    "
      ]
     },
     "execution_count": 115,
     "metadata": {},
     "output_type": "execute_result"
    }
   ],
   "source": [
    "# Evaluate the model\n",
    "test_scores = model.evaluate(x_test, y_test, verbose=0)\n",
    "loss, accuracy = test_scores[0], test_scores[1]\n",
    "\n",
    "print('Test accuracy:', accuracy)\n",
    "\n",
    "grader.check('q5')"
   ]
  },
  {
   "cell_type": "code",
   "execution_count": null,
   "metadata": {},
   "outputs": [],
   "source": []
  }
 ],
 "metadata": {
  "kernelspec": {
   "display_name": "Python 3",
   "language": "python",
   "name": "python3"
  },
  "language_info": {
   "codemirror_mode": {
    "name": "ipython",
    "version": 3
   },
   "file_extension": ".py",
   "mimetype": "text/x-python",
   "name": "python",
   "nbconvert_exporter": "python",
   "pygments_lexer": "ipython3",
   "version": "3.7.4"
  }
 },
 "nbformat": 4,
 "nbformat_minor": 2
}
