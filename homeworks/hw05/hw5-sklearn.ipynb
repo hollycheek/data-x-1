{
 "cells": [
  {
   "cell_type": "code",
   "execution_count": 1,
   "metadata": {
    "deletable": false,
    "editable": false
   },
   "outputs": [],
   "source": [
    "# Initialize Otter Grader\n",
    "import otter\n",
    "grader = otter.Notebook()"
   ]
  },
  {
   "cell_type": "markdown",
   "metadata": {},
   "source": [
    "# Data-X Spring 2020: Homework 05\n",
    "\n",
    "### Scikit-Learn\n",
    "\n",
    "In this homework, you will do some exercises with prediction and plotting. \n",
    "\n",
    "Remember to store results in the variables defined, and don't reuse variables from a previous question."
   ]
  },
  {
   "cell_type": "markdown",
   "metadata": {},
   "source": [
    "## Part 1 - Regression"
   ]
  },
  {
   "cell_type": "markdown",
   "metadata": {},
   "source": [
    "\n",
    "### Data:\n",
    "__Data Source__:\n",
    "Data file should be next to your notebook file called : __Energy.csv__\n",
    "\n",
    "The dataset was created by Angeliki Xifara ( Civil/Structural Engineer) and was processed by Athanasios Tsanas, Oxford Centre for Industrial and Applied Mathematics, University of Oxford, UK).\n",
    "\n",
    "__Data Description__:\n",
    "\n",
    "The dataset contains eight attributes of a building (or features, denoted by X1...X8) and response being the heating load on the building, y1. \n",
    "\n",
    "* X1\tRelative Compactness \n",
    "* X2\tSurface Area \n",
    "* X3\tWall Area \n",
    "*  X4\tRoof Area \n",
    "*  X5\tOverall Height \n",
    "* X6\tOrientation \n",
    "*  X7\tGlazing Area \n",
    "*  X8\tGlazing Area Distribution \n",
    "*  y1\tHeating Load \n"
   ]
  },
  {
   "cell_type": "markdown",
   "metadata": {},
   "source": [
    "#### Q1\n",
    "Let's read the data file in Python."
   ]
  },
  {
   "cell_type": "code",
   "execution_count": 2,
   "metadata": {
    "scrolled": true
   },
   "outputs": [
    {
     "name": "stdout",
     "output_type": "stream",
     "text": [
      "     X1     X2     X3      X4   X5  X6   X7  X8     Y1\n",
      "0  0.98  514.5  294.0  110.25  7.0   2  0.0   0  15.55\n",
      "1  0.98  514.5  294.0  110.25  7.0   3  0.0   0  15.55\n",
      "2  0.98  514.5  294.0  110.25  7.0   4  0.0   0  15.55\n",
      "3  0.98  514.5  294.0  110.25  7.0   5  0.0   0  15.55\n",
      "4  0.90  563.5  318.5  122.50  7.0   2  0.0   0  20.84\n"
     ]
    }
   ],
   "source": [
    "import pandas as pd\n",
    "import numpy as np\n",
    "file_path='./Energy.csv'\n",
    "\n",
    "data=pd.read_csv(file_path)\n",
    "\n",
    "## Check top 5 rows of the data\n",
    "print(data.head(5))"
   ]
  },
  {
   "cell_type": "markdown",
   "metadata": {
    "deletable": false,
    "editable": false
   },
   "source": [
    "__Q 1 a) Describe data features in terms of type and distribution range. Print out the count, mean, min, max indices (in *this exact* order) for each column in `data`. Store the output of the above operation result in a new variable called `distribution`.__\n",
    "\n",
    "<!--\n",
    "BEGIN QUESTION\n",
    "name: q1a\n",
    "manual: true\n",
    "points: 2\n",
    "-->\n",
    "<!-- EXPORT TO PDF -->"
   ]
  },
  {
   "cell_type": "code",
   "execution_count": 3,
   "metadata": {
    "scrolled": true
   },
   "outputs": [
    {
     "data": {
      "text/html": [
       "<div>\n",
       "<style scoped>\n",
       "    .dataframe tbody tr th:only-of-type {\n",
       "        vertical-align: middle;\n",
       "    }\n",
       "\n",
       "    .dataframe tbody tr th {\n",
       "        vertical-align: top;\n",
       "    }\n",
       "\n",
       "    .dataframe thead th {\n",
       "        text-align: right;\n",
       "    }\n",
       "</style>\n",
       "<table border=\"1\" class=\"dataframe\">\n",
       "  <thead>\n",
       "    <tr style=\"text-align: right;\">\n",
       "      <th></th>\n",
       "      <th>X1</th>\n",
       "      <th>X2</th>\n",
       "      <th>X3</th>\n",
       "      <th>X4</th>\n",
       "      <th>X5</th>\n",
       "      <th>X6</th>\n",
       "      <th>X7</th>\n",
       "      <th>X8</th>\n",
       "      <th>Y1</th>\n",
       "    </tr>\n",
       "  </thead>\n",
       "  <tbody>\n",
       "    <tr>\n",
       "      <td>count</td>\n",
       "      <td>768.000000</td>\n",
       "      <td>768.000000</td>\n",
       "      <td>768.0</td>\n",
       "      <td>768.000000</td>\n",
       "      <td>768.00</td>\n",
       "      <td>768.0</td>\n",
       "      <td>768.000000</td>\n",
       "      <td>768.0000</td>\n",
       "      <td>768.000000</td>\n",
       "    </tr>\n",
       "    <tr>\n",
       "      <td>mean</td>\n",
       "      <td>0.764167</td>\n",
       "      <td>671.708333</td>\n",
       "      <td>318.5</td>\n",
       "      <td>176.604167</td>\n",
       "      <td>5.25</td>\n",
       "      <td>3.5</td>\n",
       "      <td>0.234375</td>\n",
       "      <td>2.8125</td>\n",
       "      <td>22.307201</td>\n",
       "    </tr>\n",
       "    <tr>\n",
       "      <td>min</td>\n",
       "      <td>0.620000</td>\n",
       "      <td>514.500000</td>\n",
       "      <td>245.0</td>\n",
       "      <td>110.250000</td>\n",
       "      <td>3.50</td>\n",
       "      <td>2.0</td>\n",
       "      <td>0.000000</td>\n",
       "      <td>0.0000</td>\n",
       "      <td>6.010000</td>\n",
       "    </tr>\n",
       "    <tr>\n",
       "      <td>max</td>\n",
       "      <td>0.980000</td>\n",
       "      <td>808.500000</td>\n",
       "      <td>416.5</td>\n",
       "      <td>220.500000</td>\n",
       "      <td>7.00</td>\n",
       "      <td>5.0</td>\n",
       "      <td>0.400000</td>\n",
       "      <td>5.0000</td>\n",
       "      <td>43.100000</td>\n",
       "    </tr>\n",
       "  </tbody>\n",
       "</table>\n",
       "</div>"
      ],
      "text/plain": [
       "               X1          X2     X3          X4      X5     X6          X7  \\\n",
       "count  768.000000  768.000000  768.0  768.000000  768.00  768.0  768.000000   \n",
       "mean     0.764167  671.708333  318.5  176.604167    5.25    3.5    0.234375   \n",
       "min      0.620000  514.500000  245.0  110.250000    3.50    2.0    0.000000   \n",
       "max      0.980000  808.500000  416.5  220.500000    7.00    5.0    0.400000   \n",
       "\n",
       "             X8          Y1  \n",
       "count  768.0000  768.000000  \n",
       "mean     2.8125   22.307201  \n",
       "min      0.0000    6.010000  \n",
       "max      5.0000   43.100000  "
      ]
     },
     "execution_count": 3,
     "metadata": {},
     "output_type": "execute_result"
    }
   ],
   "source": [
    "distribution = data.describe().loc[['count','mean', 'min','max'],]\n",
    "distribution"
   ]
  },
  {
   "cell_type": "code",
   "execution_count": 4,
   "metadata": {
    "deletable": false,
    "editable": false
   },
   "outputs": [
    {
     "data": {
      "text/html": [
       "\n",
       "    \n",
       "    \n",
       "        <p>All tests passed!</p>\n",
       "    \n",
       "    "
      ],
      "text/plain": [
       "\n",
       "    All tests passed!\n",
       "    "
      ]
     },
     "execution_count": 4,
     "metadata": {},
     "output_type": "execute_result"
    }
   ],
   "source": [
    "grader.check(\"q1a\")"
   ]
  },
  {
   "cell_type": "markdown",
   "metadata": {
    "deletable": false,
    "editable": false
   },
   "source": [
    "__Q1 b) Check if there are any NaN/null values. Store a boolean True or False in the variable `any_nulls`.__\n",
    "<!--\n",
    "BEGIN QUESTION\n",
    "name: q1b\n",
    "manual: true\n",
    "points: 1\n",
    "-->\n",
    "<!-- EXPORT TO PDF -->"
   ]
  },
  {
   "cell_type": "code",
   "execution_count": 5,
   "metadata": {},
   "outputs": [
    {
     "data": {
      "text/plain": [
       "False"
      ]
     },
     "execution_count": 5,
     "metadata": {},
     "output_type": "execute_result"
    }
   ],
   "source": [
    "any_nulls = data.isnull().values.any()\n",
    "any_nulls"
   ]
  },
  {
   "cell_type": "code",
   "execution_count": 6,
   "metadata": {
    "deletable": false,
    "editable": false
   },
   "outputs": [
    {
     "data": {
      "text/html": [
       "\n",
       "    \n",
       "    \n",
       "        <p>All tests passed!</p>\n",
       "    \n",
       "    "
      ],
      "text/plain": [
       "\n",
       "    All tests passed!\n",
       "    "
      ]
     },
     "execution_count": 6,
     "metadata": {},
     "output_type": "execute_result"
    }
   ],
   "source": [
    "grader.check(\"q1b\")"
   ]
  },
  {
   "cell_type": "markdown",
   "metadata": {
    "deletable": false,
    "editable": false
   },
   "source": [
    "__Q1 c) Separate the data into features and output labels.__\n",
    "\n",
    "Take the columns labelled X1 to X8 and store them in a new variable called `X`. Store the colum Y1 into a new variable called `Y`\n",
    "\n",
    "<!--\n",
    "BEGIN QUESTION\n",
    "name: q1c\n",
    "manual: true\n",
    "points: 5\n",
    "-->\n",
    "<!-- EXPORT TO PDF -->"
   ]
  },
  {
   "cell_type": "code",
   "execution_count": 7,
   "metadata": {
    "scrolled": true
   },
   "outputs": [
    {
     "data": {
      "text/html": [
       "<div>\n",
       "<style scoped>\n",
       "    .dataframe tbody tr th:only-of-type {\n",
       "        vertical-align: middle;\n",
       "    }\n",
       "\n",
       "    .dataframe tbody tr th {\n",
       "        vertical-align: top;\n",
       "    }\n",
       "\n",
       "    .dataframe thead th {\n",
       "        text-align: right;\n",
       "    }\n",
       "</style>\n",
       "<table border=\"1\" class=\"dataframe\">\n",
       "  <thead>\n",
       "    <tr style=\"text-align: right;\">\n",
       "      <th></th>\n",
       "      <th>X1</th>\n",
       "      <th>X2</th>\n",
       "      <th>X3</th>\n",
       "      <th>X4</th>\n",
       "      <th>X5</th>\n",
       "      <th>X6</th>\n",
       "      <th>X7</th>\n",
       "      <th>X8</th>\n",
       "    </tr>\n",
       "  </thead>\n",
       "  <tbody>\n",
       "    <tr>\n",
       "      <td>0</td>\n",
       "      <td>0.98</td>\n",
       "      <td>514.5</td>\n",
       "      <td>294.0</td>\n",
       "      <td>110.25</td>\n",
       "      <td>7.0</td>\n",
       "      <td>2</td>\n",
       "      <td>0.0</td>\n",
       "      <td>0</td>\n",
       "    </tr>\n",
       "    <tr>\n",
       "      <td>1</td>\n",
       "      <td>0.98</td>\n",
       "      <td>514.5</td>\n",
       "      <td>294.0</td>\n",
       "      <td>110.25</td>\n",
       "      <td>7.0</td>\n",
       "      <td>3</td>\n",
       "      <td>0.0</td>\n",
       "      <td>0</td>\n",
       "    </tr>\n",
       "    <tr>\n",
       "      <td>2</td>\n",
       "      <td>0.98</td>\n",
       "      <td>514.5</td>\n",
       "      <td>294.0</td>\n",
       "      <td>110.25</td>\n",
       "      <td>7.0</td>\n",
       "      <td>4</td>\n",
       "      <td>0.0</td>\n",
       "      <td>0</td>\n",
       "    </tr>\n",
       "    <tr>\n",
       "      <td>3</td>\n",
       "      <td>0.98</td>\n",
       "      <td>514.5</td>\n",
       "      <td>294.0</td>\n",
       "      <td>110.25</td>\n",
       "      <td>7.0</td>\n",
       "      <td>5</td>\n",
       "      <td>0.0</td>\n",
       "      <td>0</td>\n",
       "    </tr>\n",
       "    <tr>\n",
       "      <td>4</td>\n",
       "      <td>0.90</td>\n",
       "      <td>563.5</td>\n",
       "      <td>318.5</td>\n",
       "      <td>122.50</td>\n",
       "      <td>7.0</td>\n",
       "      <td>2</td>\n",
       "      <td>0.0</td>\n",
       "      <td>0</td>\n",
       "    </tr>\n",
       "  </tbody>\n",
       "</table>\n",
       "</div>"
      ],
      "text/plain": [
       "     X1     X2     X3      X4   X5  X6   X7  X8\n",
       "0  0.98  514.5  294.0  110.25  7.0   2  0.0   0\n",
       "1  0.98  514.5  294.0  110.25  7.0   3  0.0   0\n",
       "2  0.98  514.5  294.0  110.25  7.0   4  0.0   0\n",
       "3  0.98  514.5  294.0  110.25  7.0   5  0.0   0\n",
       "4  0.90  563.5  318.5  122.50  7.0   2  0.0   0"
      ]
     },
     "metadata": {},
     "output_type": "display_data"
    },
    {
     "data": {
      "text/plain": [
       "0    15.55\n",
       "1    15.55\n",
       "2    15.55\n",
       "3    15.55\n",
       "4    20.84\n",
       "Name: Y1, dtype: float64"
      ]
     },
     "metadata": {},
     "output_type": "display_data"
    }
   ],
   "source": [
    "X = data[['X1', 'X2', 'X3', 'X4', 'X5', 'X6', 'X7', 'X8']]\n",
    "Y = data['Y1']\n",
    "display(X.head())\n",
    "display(Y.head())"
   ]
  },
  {
   "cell_type": "code",
   "execution_count": 8,
   "metadata": {
    "deletable": false,
    "editable": false
   },
   "outputs": [
    {
     "data": {
      "text/html": [
       "\n",
       "    \n",
       "    \n",
       "        <p>All tests passed!</p>\n",
       "    \n",
       "    "
      ],
      "text/plain": [
       "\n",
       "    All tests passed!\n",
       "    "
      ]
     },
     "execution_count": 8,
     "metadata": {},
     "output_type": "execute_result"
    }
   ],
   "source": [
    "grader.check(\"q1c\")"
   ]
  },
  {
   "cell_type": "markdown",
   "metadata": {},
   "source": [
    "__Q1 d) Plot feature distributions. This step should give you clues about data sufficiency.__\n",
    "\n",
    "**Note:** This question is not graded, it's intended for your reference only.\n",
    "\n",
    "Your plotted image should look like this: <img src='./q1_c_expected.png'>"
   ]
  },
  {
   "cell_type": "code",
   "execution_count": 9,
   "metadata": {
    "scrolled": true
   },
   "outputs": [
    {
     "data": {
      "text/plain": [
       "<Figure size 1000x1500 with 9 Axes>"
      ]
     },
     "metadata": {},
     "output_type": "display_data"
    }
   ],
   "source": [
    "import matplotlib.pyplot as plt\n",
    "\n",
    "data.hist(figsize= (10,15))\n",
    "plt.show()"
   ]
  },
  {
   "cell_type": "markdown",
   "metadata": {},
   "source": [
    "## REGRESSION\n",
    "\n",
    "Labels in the dataset provided are continuous values.\n",
    "Here the model is trained to predict a continuous value for each instance.\n",
    "On inputting a feature vector into the model, the trained model is able to predict a continuous value  for  that instance."
   ]
  },
  {
   "cell_type": "markdown",
   "metadata": {
    "deletable": false,
    "editable": false
   },
   "source": [
    "__Q2 a): Pick 80% of the data for training and the rest for test.__\n",
    "\n",
    "<!--\n",
    "BEGIN QUESTION\n",
    "name: q2a\n",
    "manual: true\n",
    "points: 5\n",
    "-->\n",
    "<!-- EXPORT TO PDF -->"
   ]
  },
  {
   "cell_type": "code",
   "execution_count": 10,
   "metadata": {},
   "outputs": [
    {
     "name": "stdout",
     "output_type": "stream",
     "text": [
      "Number of samples in training data: 614\n",
      "Number of samples in validation data: 154\n"
     ]
    }
   ],
   "source": [
    "from sklearn.model_selection import train_test_split\n",
    "random_state = 100 # Dont change this line\n",
    "\n",
    "x_train, x_test, y_train, y_test = train_test_split(X, Y, test_size = 0.2)\n",
    "print ('Number of samples in training data:',len(x_train))\n",
    "print ('Number of samples in validation data:',len(x_test))"
   ]
  },
  {
   "cell_type": "code",
   "execution_count": 11,
   "metadata": {
    "deletable": false,
    "editable": false
   },
   "outputs": [
    {
     "data": {
      "text/html": [
       "\n",
       "    \n",
       "    \n",
       "        <p>All tests passed!</p>\n",
       "    \n",
       "    "
      ],
      "text/plain": [
       "\n",
       "    All tests passed!\n",
       "    "
      ]
     },
     "execution_count": 11,
     "metadata": {},
     "output_type": "execute_result"
    }
   ],
   "source": [
    "grader.check(\"q2a\")"
   ]
  },
  {
   "cell_type": "markdown",
   "metadata": {
    "deletable": false,
    "editable": false
   },
   "source": [
    "__Q2 b) Train a linear regression model on the training data that you obtained above. What are the intercept and coefficient values of your linear model?.__\n",
    "\n",
    "<!--\n",
    "BEGIN QUESTION\n",
    "name: q2b\n",
    "manual: true\n",
    "points: 2\n",
    "-->\n",
    "<!-- EXPORT TO PDF -->"
   ]
  },
  {
   "cell_type": "code",
   "execution_count": 12,
   "metadata": {
    "scrolled": true
   },
   "outputs": [
    {
     "name": "stdout",
     "output_type": "stream",
     "text": [
      "INTERCEPT: 80.22571287935617\n",
      "COEFFICIENTS:\n",
      " [-6.37129458e+01 -5.93980966e-02  3.40999915e-02 -4.67490440e-02\n",
      "  4.31770738e+00 -5.94327347e-03  1.96644444e+01  2.81909953e-01]\n"
     ]
    }
   ],
   "source": [
    "from sklearn import linear_model\n",
    "# Create linear regression object\n",
    "linearReg_model = linear_model.LinearRegression().fit(x_train, y_train)\n",
    "\n",
    "print ('INTERCEPT:',linearReg_model.intercept_)\n",
    "print ('COEFFICIENTS:\\n',linearReg_model.coef_)"
   ]
  },
  {
   "cell_type": "code",
   "execution_count": 13,
   "metadata": {
    "deletable": false,
    "editable": false
   },
   "outputs": [
    {
     "data": {
      "text/html": [
       "\n",
       "    \n",
       "    \n",
       "        <p>All tests passed!</p>\n",
       "    \n",
       "    "
      ],
      "text/plain": [
       "\n",
       "    All tests passed!\n",
       "    "
      ]
     },
     "execution_count": 13,
     "metadata": {},
     "output_type": "execute_result"
    }
   ],
   "source": [
    "grader.check(\"q2b\")"
   ]
  },
  {
   "cell_type": "markdown",
   "metadata": {
    "collapsed": true,
    "deletable": false,
    "editable": false
   },
   "source": [
    "\n",
    "__Q.2 c): Report model performance using 'ROOT MEAN SQUARE' error metric on:__\n",
    "\n",
    "__1. Data that was used for training(Training error)__   \n",
    "\n",
    "__2. On the 20 percent of unseen data (Test error)__ \n",
    "\n",
    "<!--\n",
    "BEGIN QUESTION\n",
    "name: q2c\n",
    "manual: true\n",
    "points: 2\n",
    "-->\n",
    "<!-- EXPORT TO PDF -->"
   ]
  },
  {
   "cell_type": "code",
   "execution_count": 14,
   "metadata": {},
   "outputs": [
    {
     "name": "stdout",
     "output_type": "stream",
     "text": [
      "2.6016524442517333\n",
      "768\n"
     ]
    }
   ],
   "source": [
    "from sklearn import metrics\n",
    "y_pred = linearReg_model.predict(x_test)\n",
    "print(np.sqrt(metrics.mean_squared_error(y_pred, y_test)))\n",
    "print(len(data))"
   ]
  },
  {
   "cell_type": "code",
   "execution_count": 15,
   "metadata": {},
   "outputs": [
    {
     "name": "stdout",
     "output_type": "stream",
     "text": [
      "Training Error (Mean squared error) : 8.984133652801987\n",
      "Test Error (Mean squared error) : 6.768595440681019\n"
     ]
    }
   ],
   "source": [
    "training_error= ((linearReg_model.predict(x_train) - y_train) ** 2).mean()\n",
    "print(\"Training Error (Mean squared error) :\",training_error)\n",
    "\n",
    "\n",
    "test_error= ((linearReg_model.predict(x_test) - y_test) ** 2).mean()\n",
    "print(\"Test Error (Mean squared error) :\",test_error)"
   ]
  },
  {
   "cell_type": "code",
   "execution_count": 16,
   "metadata": {
    "deletable": false,
    "editable": false
   },
   "outputs": [
    {
     "data": {
      "text/html": [
       "\n",
       "    \n",
       "    \n",
       "        <p>0 of 1 tests passed</p>\n",
       "        \n",
       "        \n",
       "        <p> <strong>Tests failed: </strong>\n",
       "            <ul>\n",
       "            \n",
       "                <li> \n",
       "    <p><strong style='color: red;'>./tests/q2c.py</strong></p>\n",
       "    <p><strong>Test code:</strong><pre><div class=\"highlight\" style=\"background: #f8f8f8\"><pre style=\"line-height: 125%\"><span></span><span style=\"color: #000080; font-weight: bold\">&gt;&gt;&gt; </span><span style=\"color: #666666\">7&lt;=</span> test_error <span style=\"color: #666666\">&lt;=</span> <span style=\"color: #666666\">10</span>\n",
       "<span style=\"color: #888888\">True</span>\n",
       "</pre></div>\n",
       "</pre></p>\n",
       "    <p><strong>Test result:</strong><pre>Trying:\n",
       "    7<= test_error <= 10\n",
       "Expecting:\n",
       "    True\n",
       "**********************************************************************\n",
       "Line 1, in ./tests/q2c.py 1\n",
       "Failed example:\n",
       "    7<= test_error <= 10\n",
       "Expected:\n",
       "    True\n",
       "Got:\n",
       "    False\n",
       "</pre></p>\n",
       "     </li>\n",
       "            \n",
       "            </ul>\n",
       "        \n",
       "    \n",
       "    "
      ],
      "text/plain": [
       "\n",
       "    \n",
       "    0 of 1 tests passed\n",
       "    \n",
       "    \n",
       "    Tests failed: \n",
       "    \n",
       "           ./tests/q2c.py\n",
       "\n",
       "Test result:\n",
       "Trying:\n",
       "    7<= test_error <= 10\n",
       "Expecting:\n",
       "    True\n",
       "**********************************************************************\n",
       "Line 1, in ./tests/q2c.py 1\n",
       "Failed example:\n",
       "    7<= test_error <= 10\n",
       "Expected:\n",
       "    True\n",
       "Got:\n",
       "    False\n",
       "\n",
       "    \n",
       "    \n",
       "    \n",
       "    "
      ]
     },
     "execution_count": 16,
     "metadata": {},
     "output_type": "execute_result"
    }
   ],
   "source": [
    "grader.check(\"q2c\")"
   ]
  },
  {
   "cell_type": "markdown",
   "metadata": {
    "deletable": false,
    "editable": false
   },
   "source": [
    "\n",
    "__Q2 d):__ \n",
    "\n",
    "Lets us see the effect of amount of data on the performance of prediction model. Use varying amounts of  Training data (100,200,300,400,500,all) to train regression models and report  training error and validation error in each case. Validation data/Test data  is the same as above for  all  these cases.\n",
    "\n",
    "**Plot error rates vs number of training examples.** Both the training error and the validation error should be plotted. Comment on the relationship you observe in the plot, between the amount of data used to train the model and the validation accuracy of the model.\n",
    "\n",
    "__Hint:__ Use array indexing to choose varying data amounts\n",
    "\n",
    "<!--\n",
    "BEGIN QUESTION\n",
    "name: q2d\n",
    "manual: true\n",
    "points: 2\n",
    "-->\n",
    "<!-- EXPORT TO PDF -->"
   ]
  },
  {
   "cell_type": "code",
   "execution_count": 277,
   "metadata": {},
   "outputs": [
    {
     "name": "stdout",
     "output_type": "stream",
     "text": [
      "LinearRegression(copy_X=True, fit_intercept=True, n_jobs=None, normalize=False)\n"
     ]
    }
   ],
   "source": [
    "# create a linear regression object and fit it using varying data amounts in a loop\n",
    "model_linear = linear_model.LinearRegression()\n",
    "print(model_linear)"
   ]
  },
  {
   "cell_type": "code",
   "execution_count": 278,
   "metadata": {},
   "outputs": [
    {
     "data": {
      "image/png": "[encoded data removed]",
      "text/plain": [
       "<Figure size 576x576 with 1 Axes>"
      ]
     },
     "metadata": {
      "needs_background": "light"
     },
     "output_type": "display_data"
    }
   ],
   "source": [
    "# Randomize the data\n",
    "\n",
    "from sklearn.utils import shuffle\n",
    "## Shuffle is a utility to shuffle the data order to prevent any bias from data distribution\n",
    "data = shuffle(data)\n",
    "\n",
    "sample_numbers= [100,200,300,400,500,768]\n",
    "\n",
    "trainset_errors = list()\n",
    "validset_errors = list()\n",
    "\n",
    "# create a linear regression object and fit it using varying data amounts in a loop\n",
    "model_linear = linear_model.LinearRegression()\n",
    "\n",
    "for i in sample_numbers:\n",
    "    sampled = data.iloc[:i,:]\n",
    "    x_sample = data.loc[:,'X1':'X8']\n",
    "    y_sample = data['Y1']\n",
    "    x_train, x_test, y_train, y_test = train_test_split(x_sample, y_sample, test_size = 0.2)\n",
    "    model_linear.fit(x_train, y_train)\n",
    "    trainset_errors.append(metrics.mean_squared_error(y_train, model_linear.predict(x_train)))\n",
    "    validset_errors.append(metrics.mean_squared_error(y_test, model_linear.predict(x_test)))\n",
    "    \n",
    "# PLOT ERROR RATE:\n",
    "plt.figure(figsize=(8, 8))\n",
    "\n",
    "plt.plot(sample_numbers,trainset_errors,color=\"blue\", linewidth=1.0, linestyle=\"-\",marker='o',label='Training Error')\n",
    "plt.plot(sample_numbers,validset_errors,color=\"green\", linewidth=1.0, linestyle=\"-\",marker='o',label='Validation Error' )\n",
    "\n",
    "\n",
    "plt.xticks(sample_numbers)\n",
    "plt.legend(loc='upper right')\n",
    "plt.xlabel('Training sample size')\n",
    "plt.ylabel('Error')\n",
    "plt.title(\"Error Rate plot\")\n",
    "\n",
    "plt.show()"
   ]
  },
  {
   "cell_type": "code",
   "execution_count": 279,
   "metadata": {
    "deletable": false,
    "editable": false
   },
   "outputs": [
    {
     "data": {
      "text/html": [
       "\n",
       "    \n",
       "    \n",
       "        <p>All tests passed!</p>\n",
       "    \n",
       "    "
      ],
      "text/plain": [
       "\n",
       "    All tests passed!\n",
       "    "
      ]
     },
     "execution_count": 279,
     "metadata": {},
     "output_type": "execute_result"
    }
   ],
   "source": [
    "grader.check(\"q2d\")"
   ]
  },
  {
   "cell_type": "markdown",
   "metadata": {},
   "source": [
    "## Part 2 - Classification"
   ]
  },
  {
   "cell_type": "markdown",
   "metadata": {},
   "source": [
    "\n",
    "__CLASSIFICATION__:\n",
    "\n",
    "Labels are discrete values in classification tasks.\n",
    "\n",
    "Here the model is trained to classify each instance into a set of predefined  discrete classes.\n",
    "On inputting a feature vector into the model, the trained model is able to predict a  class of that instance. You can also output the probabilities of an instance belnging to a class.  "
   ]
  },
  {
   "cell_type": "markdown",
   "metadata": {
    "deletable": false,
    "editable": false
   },
   "source": [
    "__Q 3 a):  Bucket values of `Y1` i.e `Heating Load`  from the original dataset into 3 classes:__ \n",
    "\n",
    "0: 'Low' ( < 14),   \n",
    "1: 'Medium'  (14-28),   \n",
    "2: 'High'  (>28)\n",
    "\n",
    "This converts the given dataset  into a classification problem, the classes being: Heating load is: *low, medium or high*. Use this datset with the transformed 'heating load' for creating a  logistic regression classifiction model that predicts heating load type of a building. Use test-train split ratio of 0.8 : 0.2.  \n",
    "\n",
    "*Report training and test accuracies in  confusion matrices.*\n",
    "\n",
    "\n",
    "**HINT:** Use pandas.cut\n",
    "\n",
    "<!--\n",
    "BEGIN QUESTION\n",
    "name: q3a1\n",
    "manual: true\n",
    "points: 1\n",
    "-->\n",
    "<!-- EXPORT TO PDF -->"
   ]
  },
  {
   "cell_type": "code",
   "execution_count": 295,
   "metadata": {},
   "outputs": [
    {
     "data": {
      "text/plain": [
       "High      283\n",
       "Medium    267\n",
       "Low       218\n",
       "Name: Y1, dtype: int64"
      ]
     },
     "execution_count": 295,
     "metadata": {},
     "output_type": "execute_result"
    }
   ],
   "source": [
    "import math\n",
    "Y_clas = pd.cut(Y, bins = [0,14,28,45.1], labels = ['Low', 'Medium','High'])\n",
    "Y_clas.value_counts()"
   ]
  },
  {
   "cell_type": "code",
   "execution_count": 296,
   "metadata": {
    "deletable": false,
    "editable": false
   },
   "outputs": [
    {
     "data": {
      "text/html": [
       "\n",
       "    \n",
       "    \n",
       "        <p>All tests passed!</p>\n",
       "    \n",
       "    "
      ],
      "text/plain": [
       "\n",
       "    All tests passed!\n",
       "    "
      ]
     },
     "execution_count": 296,
     "metadata": {},
     "output_type": "execute_result"
    }
   ],
   "source": [
    "grader.check(\"q3a1\")"
   ]
  },
  {
   "cell_type": "markdown",
   "metadata": {
    "deletable": false,
    "editable": false
   },
   "source": [
    "In the cell below, split the dataset into training and test and fit a logistic regression model to the training data.\n",
    "Your training as well as test accuracy should be at least 75%. Make sure your test size is 20% of the dataset and your hyperparameter `C` for logistic regression is 0.001 (i.e 1e-3)\n",
    "<!--\n",
    "BEGIN QUESTION\n",
    "name: q3a2\n",
    "manual: true\n",
    "points: 2\n",
    "-->\n",
    "<!-- EXPORT TO PDF -->"
   ]
  },
  {
   "cell_type": "code",
   "execution_count": 297,
   "metadata": {},
   "outputs": [
    {
     "data": {
      "text/plain": [
       "768"
      ]
     },
     "execution_count": 297,
     "metadata": {},
     "output_type": "execute_result"
    }
   ],
   "source": [
    "len(Y_clas)"
   ]
  },
  {
   "cell_type": "code",
   "execution_count": 298,
   "metadata": {},
   "outputs": [
    {
     "name": "stdout",
     "output_type": "stream",
     "text": [
      "Number of samples in training data: 614\n",
      "Number of samples in validation data: 154\n",
      "Training a logistic Regression Model..\n"
     ]
    },
    {
     "name": "stderr",
     "output_type": "stream",
     "text": [
      "/Users/hollycheek/opt/anaconda3/lib/python3.7/site-packages/sklearn/linear_model/logistic.py:432: FutureWarning: Default solver will be changed to 'lbfgs' in 0.22. Specify a solver to silence this warning.\n",
      "  FutureWarning)\n",
      "/Users/hollycheek/opt/anaconda3/lib/python3.7/site-packages/sklearn/linear_model/logistic.py:469: FutureWarning: Default multi_class will be changed to 'auto' in 0.22. Specify the multi_class option to silence this warning.\n",
      "  \"this warning.\", FutureWarning)\n"
     ]
    },
    {
     "data": {
      "text/plain": [
       "LogisticRegression(C=0.001, class_weight=None, dual=False, fit_intercept=True,\n",
       "                   intercept_scaling=1, l1_ratio=None, max_iter=100,\n",
       "                   multi_class='warn', n_jobs=None, penalty='l2',\n",
       "                   random_state=None, solver='warn', tol=0.0001, verbose=0,\n",
       "                   warm_start=False)"
      ]
     },
     "execution_count": 298,
     "metadata": {},
     "output_type": "execute_result"
    }
   ],
   "source": [
    "from sklearn import linear_model\n",
    "\n",
    "random_state=100 # Use this random state in your model\n",
    "C = 0.001\n",
    "\n",
    "xx1_train, xx1_test, yy1_train, yy1_test = train_test_split(X, Y_clas, test_size = .2, random_state = 100)\n",
    "\n",
    "print('Number of samples in training data:',len(xx1_train))\n",
    "print('Number of samples in validation data:',len(xx1_test))\n",
    "\n",
    "# Name our regression object\n",
    "logreg_model = linear_model.LogisticRegression(C=C)\n",
    "# we create an instance of Neighbours Classifier and fit the data.\n",
    "\n",
    "print ('Training a logistic Regression Model..')\n",
    "logreg_model.fit(xx1_train, yy1_train)"
   ]
  },
  {
   "cell_type": "code",
   "execution_count": 299,
   "metadata": {
    "deletable": false,
    "editable": false
   },
   "outputs": [
    {
     "data": {
      "text/html": [
       "\n",
       "    \n",
       "    \n",
       "        <p>0 of 1 tests passed</p>\n",
       "        \n",
       "        \n",
       "        <p> <strong>Tests failed: </strong>\n",
       "            <ul>\n",
       "            \n",
       "                <li> \n",
       "    <p><strong style='color: red;'>./tests/q3a2.py</strong></p>\n",
       "    <p><strong>Test code:</strong><pre><div class=\"highlight\" style=\"background: #f8f8f8\"><pre style=\"line-height: 125%\"><span></span><span style=\"color: #000080; font-weight: bold\">&gt;&gt;&gt; </span>test_size <span style=\"color: #666666\">==</span> <span style=\"color: #666666\">0.2</span>\n",
       "<span style=\"color: #888888\">True</span>\n",
       "</pre></div>\n",
       "</pre></p>\n",
       "    <p><strong>Test result:</strong><pre>Trying:\n",
       "    test_size == 0.2\n",
       "Expecting:\n",
       "    True\n",
       "**********************************************************************\n",
       "Line 1, in ./tests/q3a2.py 1\n",
       "Failed example:\n",
       "    test_size == 0.2\n",
       "Expected:\n",
       "    True\n",
       "Got:\n",
       "    False\n",
       "</pre></p>\n",
       "     </li>\n",
       "            \n",
       "            </ul>\n",
       "        \n",
       "    \n",
       "    "
      ],
      "text/plain": [
       "\n",
       "    \n",
       "    0 of 1 tests passed\n",
       "    \n",
       "    \n",
       "    Tests failed: \n",
       "    \n",
       "           ./tests/q3a2.py\n",
       "\n",
       "Test result:\n",
       "Trying:\n",
       "    test_size == 0.2\n",
       "Expecting:\n",
       "    True\n",
       "**********************************************************************\n",
       "Line 1, in ./tests/q3a2.py 1\n",
       "Failed example:\n",
       "    test_size == 0.2\n",
       "Expected:\n",
       "    True\n",
       "Got:\n",
       "    False\n",
       "\n",
       "    \n",
       "    \n",
       "    \n",
       "    "
      ]
     },
     "execution_count": 299,
     "metadata": {},
     "output_type": "execute_result"
    }
   ],
   "source": [
    "grader.check(\"q3a2\")"
   ]
  },
  {
   "cell_type": "markdown",
   "metadata": {
    "deletable": false,
    "editable": false
   },
   "source": [
    "In the cell below, calculate the training and test accuracies.\n",
    "<!--\n",
    "BEGIN QUESTION\n",
    "name: q3a3\n",
    "manual: true\n",
    "points: 2\n",
    "-->\n",
    "<!-- EXPORT TO PDF -->"
   ]
  },
  {
   "cell_type": "code",
   "execution_count": 300,
   "metadata": {},
   "outputs": [
    {
     "name": "stdout",
     "output_type": "stream",
     "text": [
      "Training Accuracy: 0.741042345276873\n",
      "Testing Accuracy: 0.6883116883116883\n"
     ]
    }
   ],
   "source": [
    "#Report training and test accuracy\n",
    "training_accuracy = logreg_model.score(xx1_train, yy1_train)\n",
    "print ('Training Accuracy:',training_accuracy)\n",
    "\n",
    "\n",
    "test_accuracy = logreg_model.score(xx1_test, yy1_test)\n",
    "print ('Testing Accuracy:',test_accuracy)"
   ]
  },
  {
   "cell_type": "code",
   "execution_count": 301,
   "metadata": {
    "deletable": false,
    "editable": false
   },
   "outputs": [
    {
     "data": {
      "text/html": [
       "\n",
       "    \n",
       "    \n",
       "        <p>All tests passed!</p>\n",
       "    \n",
       "    "
      ],
      "text/plain": [
       "\n",
       "    All tests passed!\n",
       "    "
      ]
     },
     "execution_count": 301,
     "metadata": {},
     "output_type": "execute_result"
    }
   ],
   "source": [
    "grader.check(\"q3a3\")"
   ]
  },
  {
   "cell_type": "markdown",
   "metadata": {
    "deletable": false,
    "editable": false
   },
   "source": [
    "In the cell below, calculate the confusion matrix\n",
    "<!--\n",
    "BEGIN QUESTION\n",
    "name: q3a4\n",
    "manual: true\n",
    "points: 2\n",
    "-->\n",
    "<!-- EXPORT TO PDF -->"
   ]
  },
  {
   "cell_type": "code",
   "execution_count": 302,
   "metadata": {},
   "outputs": [
    {
     "name": "stdout",
     "output_type": "stream",
     "text": [
      "Training Confusion Matrix \n",
      " [[228   0   0]\n",
      " [  0 148  27]\n",
      " [ 75  57  79]]\n",
      "Test Confusion Matrix \n",
      " [[55  0  0]\n",
      " [ 0 36  7]\n",
      " [26 15 15]]\n"
     ]
    }
   ],
   "source": [
    "# Calculate and report Confusion Matrix\n",
    "from sklearn.metrics import confusion_matrix\n",
    "y_train_pred = logreg_model.predict(xx1_train)\n",
    "y_test_pred = logreg_model.predict(xx1_test)\n",
    "\n",
    "train_confusion_matrix = confusion_matrix(yy1_train, y_train_pred)\n",
    "test_confusion_matrix = confusion_matrix(yy1_test, y_test_pred)\n",
    "\n",
    "print('Training Confusion Matrix \\n', train_confusion_matrix)\n",
    "print('Test Confusion Matrix \\n', test_confusion_matrix)"
   ]
  },
  {
   "cell_type": "code",
   "execution_count": 303,
   "metadata": {
    "deletable": false,
    "editable": false
   },
   "outputs": [
    {
     "data": {
      "text/html": [
       "\n",
       "    \n",
       "    \n",
       "        <p>0 of 1 tests passed</p>\n",
       "        \n",
       "        \n",
       "        <p> <strong>Tests failed: </strong>\n",
       "            <ul>\n",
       "            \n",
       "                <li> \n",
       "    <p><strong style='color: red;'>./tests/q3a4.py</strong></p>\n",
       "    <p><strong>Test code:</strong><pre><div class=\"highlight\" style=\"background: #f8f8f8\"><pre style=\"line-height: 125%\"><span></span><span style=\"color: #000080; font-weight: bold\">&gt;&gt;&gt; </span>np<span style=\"color: #666666\">.</span>all(train_confusion_matrix <span style=\"color: #666666\">==</span> [[<span style=\"color: #666666\">148</span>,  <span style=\"color: #666666\">27</span>,   <span style=\"color: #666666\">0</span>], [ <span style=\"color: #666666\">57</span>,  <span style=\"color: #666666\">94</span>,  <span style=\"color: #666666\">60</span>], [  <span style=\"color: #666666\">0</span>,  <span style=\"color: #666666\">31</span>, <span style=\"color: #666666\">197</span>]])\n",
       "<span style=\"color: #888888\">True</span>\n",
       "</pre></div>\n",
       "</pre></p>\n",
       "    <p><strong>Test result:</strong><pre>Trying:\n",
       "    np.all(train_confusion_matrix == [[148,  27,   0], [ 57,  94,  60], [  0,  31, 197]])\n",
       "Expecting:\n",
       "    True\n",
       "**********************************************************************\n",
       "Line 1, in ./tests/q3a4.py 0\n",
       "Failed example:\n",
       "    np.all(train_confusion_matrix == [[148,  27,   0], [ 57,  94,  60], [  0,  31, 197]])\n",
       "Expected:\n",
       "    True\n",
       "Got:\n",
       "    False\n",
       "</pre></p>\n",
       "     </li>\n",
       "            \n",
       "            </ul>\n",
       "        \n",
       "    \n",
       "    "
      ],
      "text/plain": [
       "\n",
       "    \n",
       "    0 of 1 tests passed\n",
       "    \n",
       "    \n",
       "    Tests failed: \n",
       "    \n",
       "           ./tests/q3a4.py\n",
       "\n",
       "Test result:\n",
       "Trying:\n",
       "    np.all(train_confusion_matrix == [[148,  27,   0], [ 57,  94,  60], [  0,  31, 197]])\n",
       "Expecting:\n",
       "    True\n",
       "**********************************************************************\n",
       "Line 1, in ./tests/q3a4.py 0\n",
       "Failed example:\n",
       "    np.all(train_confusion_matrix == [[148,  27,   0], [ 57,  94,  60], [  0,  31, 197]])\n",
       "Expected:\n",
       "    True\n",
       "Got:\n",
       "    False\n",
       "\n",
       "    \n",
       "    \n",
       "    \n",
       "    "
      ]
     },
     "execution_count": 303,
     "metadata": {},
     "output_type": "execute_result"
    }
   ],
   "source": [
    "grader.check(\"q3a4\")"
   ]
  },
  {
   "cell_type": "markdown",
   "metadata": {
    "deletable": false,
    "editable": false
   },
   "source": [
    "__Q3 b):__\n",
    "\n",
    "One of the preprocessing steps in Data science is Feature Scaling i.e getting all our data on the same scale by setting same  Min-Max of feature values. \n",
    "This makes training less sensitive to the scale of features . \n",
    "Scaling is important in algorithms that use distance based classification, SVM or K means or those that involve gradient descent optimization. If we  Scale features in the range [0,1] it is called unity based normalization.\n",
    "\n",
    "__Perform unity based normalization on the above dataset and train the model again, compare model performance in training and validation with your previous model.__  \n",
    "\n",
    "Refer:http://scikit-learn.org/stable/modules/preprocessing.html#preprocessing-scaler  \n",
    "More at: https://en.wikipedia.org/wiki/Feature_scaling\n",
    "\n",
    "<!--\n",
    "BEGIN QUESTION\n",
    "name: q3b1\n",
    "manual: true\n",
    "points: 2\n",
    "-->\n",
    "<!-- EXPORT TO PDF -->"
   ]
  },
  {
   "cell_type": "code",
   "execution_count": null,
   "metadata": {},
   "outputs": [],
   "source": []
  },
  {
   "cell_type": "code",
   "execution_count": 309,
   "metadata": {},
   "outputs": [
    {
     "data": {
      "text/html": [
       "<div>\n",
       "<style scoped>\n",
       "    .dataframe tbody tr th:only-of-type {\n",
       "        vertical-align: middle;\n",
       "    }\n",
       "\n",
       "    .dataframe tbody tr th {\n",
       "        vertical-align: top;\n",
       "    }\n",
       "\n",
       "    .dataframe thead th {\n",
       "        text-align: right;\n",
       "    }\n",
       "</style>\n",
       "<table border=\"1\" class=\"dataframe\">\n",
       "  <thead>\n",
       "    <tr style=\"text-align: right;\">\n",
       "      <th></th>\n",
       "      <th>X1</th>\n",
       "      <th>X2</th>\n",
       "      <th>X3</th>\n",
       "      <th>X4</th>\n",
       "      <th>X5</th>\n",
       "      <th>X6</th>\n",
       "      <th>X7</th>\n",
       "      <th>X8</th>\n",
       "    </tr>\n",
       "  </thead>\n",
       "  <tbody>\n",
       "    <tr>\n",
       "      <td>count</td>\n",
       "      <td>768.000000</td>\n",
       "      <td>768.000000</td>\n",
       "      <td>768.000000</td>\n",
       "      <td>768.000000</td>\n",
       "      <td>768.000000</td>\n",
       "      <td>768.000000</td>\n",
       "      <td>768.000000</td>\n",
       "      <td>768.000000</td>\n",
       "    </tr>\n",
       "    <tr>\n",
       "      <td>mean</td>\n",
       "      <td>0.400463</td>\n",
       "      <td>0.534722</td>\n",
       "      <td>0.428571</td>\n",
       "      <td>0.601852</td>\n",
       "      <td>0.500000</td>\n",
       "      <td>3.500000</td>\n",
       "      <td>0.585938</td>\n",
       "      <td>0.562500</td>\n",
       "    </tr>\n",
       "    <tr>\n",
       "      <td>std</td>\n",
       "      <td>0.293826</td>\n",
       "      <td>0.299613</td>\n",
       "      <td>0.254382</td>\n",
       "      <td>0.409668</td>\n",
       "      <td>0.500326</td>\n",
       "      <td>1.118763</td>\n",
       "      <td>0.333051</td>\n",
       "      <td>0.310192</td>\n",
       "    </tr>\n",
       "    <tr>\n",
       "      <td>min</td>\n",
       "      <td>0.000000</td>\n",
       "      <td>0.000000</td>\n",
       "      <td>0.000000</td>\n",
       "      <td>0.000000</td>\n",
       "      <td>0.000000</td>\n",
       "      <td>2.000000</td>\n",
       "      <td>0.000000</td>\n",
       "      <td>0.000000</td>\n",
       "    </tr>\n",
       "    <tr>\n",
       "      <td>25%</td>\n",
       "      <td>0.173611</td>\n",
       "      <td>0.312500</td>\n",
       "      <td>0.285714</td>\n",
       "      <td>0.277778</td>\n",
       "      <td>0.000000</td>\n",
       "      <td>2.750000</td>\n",
       "      <td>0.250000</td>\n",
       "      <td>0.350000</td>\n",
       "    </tr>\n",
       "    <tr>\n",
       "      <td>50%</td>\n",
       "      <td>0.361111</td>\n",
       "      <td>0.541667</td>\n",
       "      <td>0.428571</td>\n",
       "      <td>0.666667</td>\n",
       "      <td>0.500000</td>\n",
       "      <td>3.500000</td>\n",
       "      <td>0.625000</td>\n",
       "      <td>0.600000</td>\n",
       "    </tr>\n",
       "    <tr>\n",
       "      <td>75%</td>\n",
       "      <td>0.583333</td>\n",
       "      <td>0.770833</td>\n",
       "      <td>0.571429</td>\n",
       "      <td>1.000000</td>\n",
       "      <td>1.000000</td>\n",
       "      <td>4.250000</td>\n",
       "      <td>1.000000</td>\n",
       "      <td>0.800000</td>\n",
       "    </tr>\n",
       "    <tr>\n",
       "      <td>max</td>\n",
       "      <td>1.000000</td>\n",
       "      <td>1.000000</td>\n",
       "      <td>1.000000</td>\n",
       "      <td>1.000000</td>\n",
       "      <td>1.000000</td>\n",
       "      <td>5.000000</td>\n",
       "      <td>1.000000</td>\n",
       "      <td>1.000000</td>\n",
       "    </tr>\n",
       "  </tbody>\n",
       "</table>\n",
       "</div>"
      ],
      "text/plain": [
       "               X1          X2          X3          X4          X5          X6  \\\n",
       "count  768.000000  768.000000  768.000000  768.000000  768.000000  768.000000   \n",
       "mean     0.400463    0.534722    0.428571    0.601852    0.500000    3.500000   \n",
       "std      0.293826    0.299613    0.254382    0.409668    0.500326    1.118763   \n",
       "min      0.000000    0.000000    0.000000    0.000000    0.000000    2.000000   \n",
       "25%      0.173611    0.312500    0.285714    0.277778    0.000000    2.750000   \n",
       "50%      0.361111    0.541667    0.428571    0.666667    0.500000    3.500000   \n",
       "75%      0.583333    0.770833    0.571429    1.000000    1.000000    4.250000   \n",
       "max      1.000000    1.000000    1.000000    1.000000    1.000000    5.000000   \n",
       "\n",
       "               X7          X8  \n",
       "count  768.000000  768.000000  \n",
       "mean     0.585938    0.562500  \n",
       "std      0.333051    0.310192  \n",
       "min      0.000000    0.000000  \n",
       "25%      0.250000    0.350000  \n",
       "50%      0.625000    0.600000  \n",
       "75%      1.000000    0.800000  \n",
       "max      1.000000    1.000000  "
      ]
     },
     "execution_count": 309,
     "metadata": {},
     "output_type": "execute_result"
    }
   ],
   "source": [
    "# NORMALIZE\n",
    "#def normalize(col):\n",
    "#    column = []\n",
    "#    for i in range(len(col)):\n",
    "#        \n",
    "#        column.append((i - np.mean(i))/ (np.max(i) - np.min(i)))  \n",
    "#    return column\n",
    "\n",
    "#for col in ['X1','X2','X3','X4','X5','X7','X8']:\n",
    "#    X[col]=normalize(X[col])\n",
    "\n",
    "from sklearn import preprocessing\n",
    "scaler = preprocessing.MinMaxScaler()\n",
    "\n",
    "for i in ['X1','X2','X3','X4','X5','X7','X8']:\n",
    "    X[i]=scaler.fit_transform(np.array(X[i]).reshape(-1,1))\n",
    "\n",
    "X1=X\n",
    "X1.describe()"
   ]
  },
  {
   "cell_type": "code",
   "execution_count": 310,
   "metadata": {
    "deletable": false,
    "editable": false
   },
   "outputs": [
    {
     "data": {
      "text/html": [
       "\n",
       "    \n",
       "    \n",
       "        <p>All tests passed!</p>\n",
       "    \n",
       "    "
      ],
      "text/plain": [
       "\n",
       "    All tests passed!\n",
       "    "
      ]
     },
     "execution_count": 310,
     "metadata": {},
     "output_type": "execute_result"
    }
   ],
   "source": [
    "grader.check(\"q3b1\")"
   ]
  },
  {
   "cell_type": "markdown",
   "metadata": {
    "deletable": false,
    "editable": false
   },
   "source": [
    "In the cell below, split the dataset into training and test and fit a logistic regression model to the training data.\n",
    "Once fitted, store the test and train accuracies in the `training_accuracy` and `test_accuracy` variables\n",
    "<!--\n",
    "BEGIN QUESTION\n",
    "name: q3b2\n",
    "manual: true\n",
    "points: 4\n",
    "-->\n",
    "<!-- EXPORT TO PDF -->"
   ]
  },
  {
   "cell_type": "code",
   "execution_count": 311,
   "metadata": {
    "scrolled": true
   },
   "outputs": [
    {
     "name": "stdout",
     "output_type": "stream",
     "text": [
      "Number of samples in training data: 652\n",
      "Number of samples in validation data: 116\n",
      "Training a logistic Regression Model..\n",
      "Training Accuracy: 0.8604294478527608\n",
      "Testing Accuracy: 0.8620689655172413\n"
     ]
    },
    {
     "name": "stderr",
     "output_type": "stream",
     "text": [
      "/Users/hollycheek/opt/anaconda3/lib/python3.7/site-packages/sklearn/linear_model/logistic.py:432: FutureWarning: Default solver will be changed to 'lbfgs' in 0.22. Specify a solver to silence this warning.\n",
      "  FutureWarning)\n",
      "/Users/hollycheek/opt/anaconda3/lib/python3.7/site-packages/sklearn/linear_model/logistic.py:469: FutureWarning: Default multi_class will be changed to 'auto' in 0.22. Specify the multi_class option to silence this warning.\n",
      "  \"this warning.\", FutureWarning)\n"
     ]
    }
   ],
   "source": [
    "## Split the train and testing data\n",
    "random_state=100 # don't change these lines\n",
    "test_size=0.15 # don't change these lines\n",
    "\n",
    "xx1_train, xx1_test, yy1_train, yy1_test = train_test_split(X1, Y_clas, test_size = test_size, random_state = random_state)\n",
    "\n",
    "print ('Number of samples in training data:',len(xx1_train))\n",
    "print ('Number of samples in validation data:',len(xx1_test))\n",
    "\n",
    "# Name our LOGISTIC regression object\n",
    "logreg_model = linear_model.LogisticRegression(C=1e5)\n",
    "# we create an instance of Neighbours Classifier and fit the data.\n",
    "\n",
    "print ('Training a logistic Regression Model..')\n",
    "logreg_model.fit(xx1_train, yy1_train)\n",
    "\n",
    "training_accuracy= logreg_model.score(xx1_train, yy1_train)\n",
    "print ('Training Accuracy:',training_accuracy)\n",
    "\n",
    "\n",
    "test_accuracy= logreg_model.score(xx1_test, yy1_test)\n",
    "print ('Testing Accuracy:', test_accuracy)"
   ]
  },
  {
   "cell_type": "code",
   "execution_count": 312,
   "metadata": {
    "deletable": false,
    "editable": false
   },
   "outputs": [
    {
     "data": {
      "text/html": [
       "\n",
       "    \n",
       "    \n",
       "        <p>All tests passed!</p>\n",
       "    \n",
       "    "
      ],
      "text/plain": [
       "\n",
       "    All tests passed!\n",
       "    "
      ]
     },
     "execution_count": 312,
     "metadata": {},
     "output_type": "execute_result"
    }
   ],
   "source": [
    "grader.check(\"q3b2\")"
   ]
  },
  {
   "cell_type": "markdown",
   "metadata": {},
   "source": [
    "## End\n",
    "Congratulations on finishing the homework! Remember to select Kernel -> Restart and Run all before submitting your `.ipynb`."
   ]
  },
  {
   "cell_type": "code",
   "execution_count": null,
   "metadata": {},
   "outputs": [],
   "source": []
  }
 ],
 "metadata": {
  "kernel_info": {
   "name": "data-x"
  },
  "kernelspec": {
   "display_name": "Python 3",
   "language": "python",
   "name": "python3"
  },
  "language_info": {
   "codemirror_mode": {
    "name": "ipython",
    "version": 3
   },
   "file_extension": ".py",
   "mimetype": "text/x-python",
   "name": "python",
   "nbconvert_exporter": "python",
   "pygments_lexer": "ipython3",
   "version": "3.7.4"
  },
  "nteract": {
   "version": "0.7.1"
  }
 },
 "nbformat": 4,
 "nbformat_minor": 2
}
